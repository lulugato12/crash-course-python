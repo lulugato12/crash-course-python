{
 "cells": [
  {
   "cell_type": "markdown",
   "metadata": {},
   "source": [
    "## Python básico\n",
    "Lourdes Beatriz Cajica Maceda\n",
    "\n",
    "### Temario\n",
    "1. **Variables y tipos de datos**\n",
    "2. **Entradas y salidas de datos**\n",
    "3. **Strings y operaciones**\n",
    "4. **Boleanos y operaciones**\n",
    "5. **Condicionales**\n",
    "6. **Listas y operaciones**\n",
    "7. **Ciclos**\n",
    "8. Tuplas y operaciones\n",
    "9. Diccionarios y operaciones\n",
    "10. Conjuntos y operaciones\n",
    "11. Funciones\n",
    "12. Manejo de errores\n",
    "13. Manejo de archivos\n",
    "14. Programación Orientada a Objetos"
   ]
  },
  {
   "cell_type": "markdown",
   "metadata": {},
   "source": [
    "### 6. Listas y operaciones"
   ]
  },
  {
   "cell_type": "code",
   "execution_count": null,
   "metadata": {},
   "outputs": [],
   "source": [
    "# Iniciar lista vacia\n",
    "mi_lista = list()\n",
    "print(mi_lista)\n",
    "\n",
    "# Iniciar lista llena\n",
    "mi_lista = [3, 4, 1, 4]\n",
    "print(mi_lista)\n",
    "\n",
    "# Las listas pueden tener multiples tipos de datos\n",
    "lista_mixta = [True, \"hola\", 2, 3.4, 111, \"$%&\"]\n",
    "print(lista_mixta)"
   ]
  },
  {
   "cell_type": "code",
   "execution_count": null,
   "metadata": {},
   "outputs": [],
   "source": [
    "# Agregar valor\n",
    "mi_lista.append(False)\n",
    "print(mi_lista)\n",
    "\n",
    "# Eliminar valores\n",
    "mi_lista.pop(1)\n",
    "print(mi_lista)\n",
    "\n",
    "del mi_lista[3]\n",
    "print(mi_lista)"
   ]
  },
  {
   "cell_type": "code",
   "execution_count": null,
   "metadata": {},
   "outputs": [],
   "source": [
    "# Acceder a valores\n",
    "print(lista_mixta[1])\n",
    "\n",
    "# Modificar valores\n",
    "lista_mixta[1] = \"modificado\"\n",
    "print(lista_mixta[1])\n",
    "\n",
    "# Recortar listas\n",
    "nueva_lista = [3, 1, 2, 3, 1, 2, 3, 1, 2, 3, 1]\n",
    "print(nueva_lista[:])\n",
    "print(nueva_lista[:5])\n",
    "print(nueva_lista[5:])\n",
    "print(nueva_lista[2:6])\n",
    "print(nueva_lista[-5:-1])\n",
    "\n",
    "# Unión de listas\n",
    "print([3, 4, 1, 2] + [False, True, False])\n",
    "print(nueva_lista[:5]+nueva_lista[5:])\n",
    "\n",
    "# Multiplicación de listas\n",
    "print([3, 2, 1] * 5)"
   ]
  },
  {
   "cell_type": "code",
   "execution_count": null,
   "metadata": {},
   "outputs": [],
   "source": [
    "# Funciones agregadas\n",
    "print(len(nueva_lista))\n",
    "print(max(nueva_lista))\n",
    "print(min(nueva_lista))\n",
    "print(sum(nueva_lista))"
   ]
  },
  {
   "cell_type": "code",
   "execution_count": null,
   "metadata": {},
   "outputs": [],
   "source": [
    "palabra = \"hola\"\n",
    "palabra = palabra.replace(\"o\", \"e\")\n",
    "print(palabra)\n",
    "print(palabra[:1]+\"a\"+palabra[2:])\n",
    "palabra2 = \"hela\""
   ]
  },
  {
   "cell_type": "markdown",
   "metadata": {},
   "source": [
    "### Ejercicio de 6\n",
    "1. Bola mágica. Crear un programa que tenga diferentes respuestas como: no, sí, tal vez... El usuario ingresa una pregunta y el programa regresa una respuesta aleatoria (busca la librería random).\n",
    "2. Promedio, mínimo y máximo. Lee 5 números y agrégalos a una lista. Utiliza las funciones mean(), max() y min() para encontrar el promedio, el mínimo y el máximo."
   ]
  },
  {
   "cell_type": "markdown",
   "metadata": {},
   "source": [
    "### 7. Ciclos"
   ]
  },
  {
   "cell_type": "code",
   "execution_count": null,
   "metadata": {},
   "outputs": [],
   "source": [
    "# for\n",
    "for numero in range(4):\n",
    "    print(\"hola\")\n",
    "    \n",
    "#for letra in \"hola\":\n",
    "#    print(letra)\n",
    "    \n",
    "#for valor in [3, 4, 1, 2]:\n",
    "#    print(valor)\n",
    "    \n",
    "#for nombre in [\"Juan\", \"Jose\", \"Maria\", \"Susana\"]:\n",
    "#    print(nombre)"
   ]
  },
  {
   "cell_type": "code",
   "execution_count": null,
   "metadata": {},
   "outputs": [],
   "source": [
    "# while\n",
    "valor = 4\n",
    "\n",
    "while valor == 4:\n",
    "    print(\"Valido\")\n",
    "    valor = valor + 1\n",
    "\n",
    "#while valor <= 15:\n",
    "#    print(valor)\n",
    "#    valor = valor + 1\n",
    "\n",
    "valor = 14\n",
    "\n",
    "#while valor != 0:\n",
    "#    print(valor)\n",
    "#    valor = int(input(\"Escribe un valor\"))"
   ]
  },
  {
   "cell_type": "markdown",
   "metadata": {},
   "source": [
    "### Ejercicios 7\n",
    "1. Boleta de calificaciones. El usuario ingresa las calificaciones de n materias. El programa debe regresar el promedio, la calificación más alta y la calificación más baja.\n",
    "2. Tablas de multiplicar. Solicita al usuario un número e imprime la tabla correspondiente con el siguiente formato: 1 x 2 = 2 \n",
    "3. Calificaciones del salón. El usuario ingresa los nombre de sus alumnos y sus respectivas calificaciones. El programa regresa el promedio de calificación del salón, el porcentaje de aprobación (calificación mayor a 7) y la lista de nombres de los alumnos reprobados.\n",
    "4. Restaurante. El programa despliega un menú con al menos 5 opciones (bebidas y comidas). El programa debe de tomar la orden: el usuario ingresa su nombre, el número de cosas que va a pedir, y el id de cada opción que va a ordenar. El programa debe regresar un \"ticket\" con. El nombre del restaurante, el nombre del cliente, lo que pidió más su precio unitario y el total de la cuenta más IVA."
   ]
  },
  {
   "cell_type": "code",
   "execution_count": null,
   "metadata": {},
   "outputs": [],
   "source": []
  }
 ],
 "metadata": {
  "kernelspec": {
   "display_name": "Python 3",
   "language": "python",
   "name": "python3"
  },
  "language_info": {
   "codemirror_mode": {
    "name": "ipython",
    "version": 3
   },
   "file_extension": ".py",
   "mimetype": "text/x-python",
   "name": "python",
   "nbconvert_exporter": "python",
   "pygments_lexer": "ipython3",
   "version": "3.8.5"
  }
 },
 "nbformat": 4,
 "nbformat_minor": 4
}
