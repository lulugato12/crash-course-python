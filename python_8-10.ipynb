{
 "cells": [
  {
   "cell_type": "markdown",
   "metadata": {},
   "source": [
    "## Python básico\n",
    "Lourdes Beatriz Cajica Maceda\n",
    "\n",
    "### Temario\n",
    "1. **Variables y tipos de datos**\n",
    "2. **Entradas y salidas de datos**\n",
    "3. **Strings y operaciones**\n",
    "4. **Booleanos y operaciones**\n",
    "5. **Condicionales**\n",
    "6. **Listas y operaciones**\n",
    "7. **Ciclos**\n",
    "8. **Tuplas y operaciones**\n",
    "9. **Diccionarios y operaciones**\n",
    "10. **Conjuntos y operaciones**\n",
    "11. Funciones\n",
    "12. Manejo de errores\n",
    "13. Manejo de archivos\n",
    "14. Programación Orientada a Objetos"
   ]
  },
  {
   "cell_type": "markdown",
   "metadata": {},
   "source": [
    "### Tuplas"
   ]
  },
  {
   "cell_type": "code",
   "execution_count": null,
   "metadata": {},
   "outputs": [],
   "source": [
    "# Iniciar una tupla vacia\n",
    "mi_tupla = tuple()\n",
    "print(mi_tupla, type(mi_tupla))\n",
    "\n",
    "# Una tupla con datos\n",
    "mi_tupla = (3, 1, 2, 3)\n",
    "print(mi_tupla, len(mi_tupla))\n",
    "\n",
    "# Tupla con diferentes tipos de datos\n",
    "mi_tupla = (3, 1, 2.33, True, \"adioooos\")\n",
    "print(mi_tupla)"
   ]
  },
  {
   "cell_type": "code",
   "execution_count": null,
   "metadata": {},
   "outputs": [],
   "source": [
    "# Acceder a valores\n",
    "print(mi_tupla[0])\n",
    "print(mi_tupla[-1])\n",
    "\n",
    "# Las tuplas son tipos de datos inmutables\n",
    "# no podemos agregar, modificar ni eliminar\n",
    "# elementos :("
   ]
  },
  {
   "cell_type": "code",
   "execution_count": null,
   "metadata": {},
   "outputs": [],
   "source": [
    "# Concatenar tuplas\n",
    "print((3, 4, 1) + (\"hola\", 1))\n",
    "\n",
    "# Multiplicar tuplas\n",
    "print((2, 3) * 2)"
   ]
  },
  {
   "cell_type": "markdown",
   "metadata": {},
   "source": [
    "### Ejercicios de 8\n",
    "1. Repeticiones. Crea una tupla con 15 numeros aleatorios. Recibe un numero e imprime cuantas veces aparece en la tupla.\n",
    "2. Tupla invertida. Recibe n numeros por parte del usuario y guardalos en una tupla. Invierte en orden en la tupla e imprime la nueva tupla."
   ]
  },
  {
   "cell_type": "markdown",
   "metadata": {},
   "source": [
    "### Diccionarios"
   ]
  },
  {
   "cell_type": "code",
   "execution_count": null,
   "metadata": {},
   "outputs": [],
   "source": [
    "# Crear un diccionario vacio\n",
    "mi_dict = dict()\n",
    "print(mi_dict, type(mi_dict))\n",
    "\n",
    "# Un diccionario con varios valores | llave : valor\n",
    "mi_dict = {\"Mexico\": \"CDMX\", \"Argentina\": \"Buenos Aires\", \"Colombia\": \"Bogota\"}\n",
    "print(mi_dict, len(mi_dict))\n",
    "\n",
    "# Diferentes tipos de datos\n",
    "mi_dict = {\"nombre\": \"Juan\", \"altura\" : 1.86, \"casado\": False}\n",
    "print(mi_dict)\n",
    "\n",
    "# Las llaves deben ser objetos inmutables\n",
    "# lo ideal es usar enteros o strings"
   ]
  },
  {
   "cell_type": "code",
   "execution_count": null,
   "metadata": {},
   "outputs": [],
   "source": [
    "# Acceder a valores\n",
    "print(mi_dict[\"nombre\"])\n",
    "print(mi_dict[\"altura\"])\n",
    "print(mi_dict[\"casado\"])\n",
    "\n",
    "# Agregar valores | [nueva_llave] = valor\n",
    "mi_dict[\"nacionalidad\"] = \"mexicano\"\n",
    "mi_dict[\"desempleado\"] = False\n",
    "\n",
    "print(mi_dict[\"nacionalidad\"])\n",
    "print(mi_dict[\"desempleado\"])\n",
    "\n",
    "# Eliminar valores\n",
    "del mi_dict[\"desempleado\"]\n",
    "\n",
    "print(mi_dict)"
   ]
  },
  {
   "cell_type": "code",
   "execution_count": null,
   "metadata": {},
   "outputs": [],
   "source": [
    "# Obetener todos los valores\n",
    "print(mi_dict.values())\n",
    "\n",
    "# Obtener todas las llaves\n",
    "print(mi_dict.keys())\n",
    "\n",
    "# Obtener los pares | regresa tuplas\n",
    "print(mi_dict.items())"
   ]
  },
  {
   "cell_type": "code",
   "execution_count": null,
   "metadata": {},
   "outputs": [],
   "source": [
    "# Concatenar diccionarios\n",
    "mi_dict_2 = {\"nada_importante\" : 0}\n",
    "mi_dict.update(mi_dict_2)\n",
    "\n",
    "print(mi_dict)"
   ]
  },
  {
   "cell_type": "markdown",
   "metadata": {},
   "source": [
    "### Ejercicios de 9\n",
    "1. Promedio de alumnos. Recibe las calificaciones de matematicas, fisica y quimica de n alumnos. Imprime el promedio de calificaciones de cada una de las asignaturas.\n",
    "2. Directorio de personas. Recibe el nombre, el telefono y el correo electronico de n personas. Imprime cada uno de los contactos con el formato: \"nombre: -nombre- | tel: -telefono- | dir: -direccion-\n",
    "3. Diccionario ingles. Se imprime un menu con las opciones: agregar palabra, ver primeras 10 palabras, buscar traduccion y cerrar programa. Para agregar palabra se recibe la version en español y la versión en inglés. Para la segunda opción imprimir los primero 10 valores del diccionario en el formato: \"Espanol: -español- : Ingles: -ingles-. Para la tercera opcion se recibe la palabra en ingles y se regresa la palabra en español, si no se tiene la traduccion se imprime \"no existe la palabra en el diccionario, ve a la opcion 1 para agregarla\". Siempre se repite el menu hasta que el usuario elige la ultima opcion."
   ]
  },
  {
   "cell_type": "markdown",
   "metadata": {},
   "source": [
    "### Conjuntos"
   ]
  },
  {
   "cell_type": "code",
   "execution_count": null,
   "metadata": {},
   "outputs": [],
   "source": [
    "# Hay dos tipos de conjuntos\n",
    "mi_set = set([3.4, \"##\", True])\n",
    "mi_frozenset = frozenset([3.11, 0.0, \"####\"])\n",
    "\n",
    "print(mi_set, type(mi_set))\n",
    "print(mi_frozenset, type(mi_frozenset))\n",
    "\n",
    "# Frozen set es inmutable\n",
    "# Ambos no permiten duplicados"
   ]
  },
  {
   "cell_type": "code",
   "execution_count": null,
   "metadata": {},
   "outputs": [],
   "source": [
    "# Operaciones de set\n",
    "mi_set.add(\"holaa\")\n",
    "print(mi_set)\n",
    "\n",
    "mi_set.discard(3.4)\n",
    "print(mi_set)\n",
    "\n",
    "mi_set.update([3,2, \"Mas cosas\"])\n",
    "print(mi_set)"
   ]
  },
  {
   "cell_type": "code",
   "execution_count": null,
   "metadata": {},
   "outputs": [],
   "source": [
    "# Operaciones de conjuntos\n",
    "mi_set1 = set([3, 4, 5])\n",
    "mi_set2 = set([3, 4, 5, 6, 7, 8])\n",
    "\n",
    "print(mi_set1.difference(mi_set2))\n",
    "print(mi_set1.intersection(mi_set2))\n",
    "print(mi_set1.isdisjoint(mi_set2))    # no hay elementos en comun\n",
    "print(mi_set1.issubset(mi_set2))      # es parte de\n",
    "print(mi_set1.issuperset(mi_set2))    # contiene a\n",
    "print(mi_set1.symmetric_difference(mi_set2))\n",
    "print(mi_set1.union(mi_set2))"
   ]
  },
  {
   "cell_type": "markdown",
   "metadata": {},
   "source": [
    "### Ejercicios de 10\n",
    "1. Boleto de loteria. Genera un conjunto de 5 numeros aleatorios menores a 10 (recuerda que no se pueden guardar duplicados). El usuario va a ingresar 5 numeros diferentes, almacenalos en un conjunto. Si la diferencia simetrica es vacia, imprime: \"Felicidades, te ganaste la loteria!\", si no: \"Lo lamento, sigue participando\".\n",
    "2. Verificador de primos. Crea un conjunto de los primeros 20 numeros primos. Recibe un conjunto de n numeros diferentes del usuario. Verifica si todos son primos, si es asi imprime: \"Puros numeros primos\", si no imprime: \"Me lamento que no todos son primos\"."
   ]
  },
  {
   "cell_type": "code",
   "execution_count": null,
   "metadata": {},
   "outputs": [],
   "source": []
  }
 ],
 "metadata": {
  "kernelspec": {
   "display_name": "Python 3",
   "language": "python",
   "name": "python3"
  },
  "language_info": {
   "codemirror_mode": {
    "name": "ipython",
    "version": 3
   },
   "file_extension": ".py",
   "mimetype": "text/x-python",
   "name": "python",
   "nbconvert_exporter": "python",
   "pygments_lexer": "ipython3",
   "version": "3.8.5"
  }
 },
 "nbformat": 4,
 "nbformat_minor": 4
}
