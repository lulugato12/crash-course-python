{
 "cells": [
  {
   "cell_type": "markdown",
   "metadata": {},
   "source": [
    "## Python básico\n",
    "Lourdes Beatriz Cajica Maceda\n",
    "\n",
    "### Temario\n",
    "1. **Variables y tipos de datos**\n",
    "2. **Entradas y salidas de datos**\n",
    "3. **Strings y operaciones**\n",
    "4. Booleanos y operaciones\n",
    "5. Condicionales\n",
    "6. Listas y operaciones\n",
    "7. Ciclos\n",
    "8. Tuplas y operaciones\n",
    "9. Diccionarios y operaciones\n",
    "10. Conjuntos y operaciones\n",
    "11. Funciones\n",
    "12. Manejo de errores\n",
    "13. Manejo de archivos\n",
    "14. Programación Orientada a Objetos"
   ]
  },
  {
   "cell_type": "markdown",
   "metadata": {},
   "source": [
    "### 1. Variables y tipos de datos"
   ]
  },
  {
   "cell_type": "code",
   "execution_count": null,
   "metadata": {},
   "outputs": [],
   "source": [
    "print(type(3))          # entero\n",
    "print(type(4.5))        # flotante (decimales)\n",
    "print(type(True))       # o False\n",
    "print(type(\"Hola\"))     # String (cadena de caracteres)\n",
    "\n",
    "# Pruebas\n",
    "print(type(\"3.0\"))\n",
    "print(type(3.0))\n",
    "print(type(3))"
   ]
  },
  {
   "cell_type": "code",
   "execution_count": null,
   "metadata": {},
   "outputs": [],
   "source": [
    "# Operaciones numericas\n",
    "# + - *\n",
    "print(3 / 5)          # División flotante ||| Multiplicacion: *\n",
    "print(6 // 5)         # División entera\n",
    "print(6 % 5)          # Se lee módulo (residuo de la división)\n",
    "print(3 ** 5)         # Exponente\n",
    "print(3 * 5)"
   ]
  },
  {
   "cell_type": "code",
   "execution_count": null,
   "metadata": {},
   "outputs": [],
   "source": [
    "hola = 3\n",
    "print(\"hola\", type(hola))\n",
    "mi_variable = \"hola\"\n",
    "print(mi_variable, type(mi_variable))"
   ]
  },
  {
   "cell_type": "markdown",
   "metadata": {},
   "source": [
    "### 2. Entrada y salida de datos"
   ]
  },
  {
   "cell_type": "code",
   "execution_count": null,
   "metadata": {},
   "outputs": [],
   "source": [
    "print(\"Esta es una salida de datos\")\n",
    "print(\":)\")\n",
    "print(\"Esta también\", end = \" \")\n",
    "print(\":)\")\n",
    "print(\"hola\", \"adios\")\n",
    "print(\"Y\", \"esta\", \"los\", \"que\", \"sean\", sep = \"--\")\n",
    "print(\"Y\", \"este\", \"otra\")\n",
    "print(\":)\")"
   ]
  },
  {
   "cell_type": "code",
   "execution_count": null,
   "metadata": {},
   "outputs": [],
   "source": [
    "# impresión con formato (%)\n",
    "nombre = \"Alberto\"\n",
    "var = 34.412123\n",
    "print(\"Hola Jorge\")\n",
    "print(\"Hola %s\" % (nombre))                             # %s string\n",
    "print(\"Mi altura es %3.2f\" % (var))                     # %f flotante\n",
    "print(\"Mi altura es %30d, %3d, %3d\" % (4, 43, 433))     # %d enteros\n",
    "print(\"Me llamo %s mido %f y peso %d\" % (\"Alex\", 2.3, 64))\n",
    "\n",
    "# formato de string\n",
    "print(\"Hola {} soy {}\".format(\"amigo\", 2345))\n",
    "print(\"Hola {1} soy {0}\".format(\"amigo\", 2345))"
   ]
  },
  {
   "cell_type": "code",
   "execution_count": null,
   "metadata": {},
   "outputs": [],
   "source": [
    "input(\"Esta es un entrada de datos\")"
   ]
  },
  {
   "cell_type": "code",
   "execution_count": null,
   "metadata": {},
   "outputs": [],
   "source": [
    "otra_variable = input(\"Lo que ingreses acá es un string\")\n",
    "print(otra_variable)"
   ]
  },
  {
   "cell_type": "code",
   "execution_count": null,
   "metadata": {},
   "outputs": [],
   "source": [
    "otra = int(input(\"Aquí puedes ingresar enteros\"))\n",
    "print(type(otra), otra)"
   ]
  },
  {
   "cell_type": "code",
   "execution_count": null,
   "metadata": {},
   "outputs": [],
   "source": [
    "una_mas = float(input(\"Aquí solo flotantes, por favor\"))\n",
    "print(type(una_mas), una_mas)"
   ]
  },
  {
   "cell_type": "code",
   "execution_count": null,
   "metadata": {},
   "outputs": [],
   "source": [
    "# Cambios de tipos de datos / Casting\n",
    "mi_string = \"34\"\n",
    "mi_int = 12\n",
    "mi_float = 2.33\n",
    "print(float(mi_string))\n",
    "print(int(mi_string))\n",
    "print(type(str(mi_int)), str(mi_float))"
   ]
  },
  {
   "cell_type": "markdown",
   "metadata": {},
   "source": [
    "### Ejercicios de 1-2\n",
    "\n",
    "1. Calculadora de área, perímetro y volumen. Solicitar el radio de un círculo y, utilizando la librería de math, calcular el área y perímetro de un círculo, y el volumen y área de una esfera.\n",
    "2. Convetidor de grados. Recibes un número de °C, debes imprimir el valor en °F y en °K.\n",
    "3. Convertidor de moneda. Reciber un número en pesos mexicanos, debes imprimir el valor en dolares americanos y euros."
   ]
  },
  {
   "cell_type": "markdown",
   "metadata": {},
   "source": [
    "### 3. Strings y operaciones"
   ]
  },
  {
   "cell_type": "code",
   "execution_count": null,
   "metadata": {},
   "outputs": [],
   "source": [
    "# Un string es una lista de caracteres: después lo probaremos\n",
    "mi_string = \"holsd\"\n",
    "\n",
    "print(len(mi_string))\n",
    "print(1, mi_string[0])\n",
    "print(2, mi_string[1])\n",
    "print(3, mi_string[2])\n",
    "print(4, mi_string[3])\n",
    "print(5, mi_string[4])"
   ]
  },
  {
   "cell_type": "code",
   "execution_count": null,
   "metadata": {},
   "outputs": [],
   "source": [
    "# Recortes\n",
    "mi_nuevo_string = \"hola a todos\"\n",
    "print(len(mi_nuevo_string))\n",
    "print(mi_nuevo_string[:])\n",
    "print(mi_nuevo_string[0:])\n",
    "print(mi_nuevo_string[:-1])\n",
    "print(mi_nuevo_string[3:9])\n",
    "print(mi_nuevo_string[5:6])"
   ]
  },
  {
   "cell_type": "code",
   "execution_count": null,
   "metadata": {},
   "outputs": [],
   "source": [
    "print(\"Hola \" + \"y\" + \" adios\")    # concatenación"
   ]
  },
  {
   "cell_type": "code",
   "execution_count": null,
   "metadata": {},
   "outputs": [],
   "source": [
    "print(\"ja\" * 2)"
   ]
  },
  {
   "cell_type": "code",
   "execution_count": null,
   "metadata": {},
   "outputs": [],
   "source": [
    "otro_string = \"aqui estAMos HACiendo un Par de pruebas\"\n",
    "\n",
    "print(otro_string.find(\"a\", 15))     # segundo parámetro es para especificar a partir de qué índice empiza a buscar\n",
    "print(otro_string[26])"
   ]
  },
  {
   "cell_type": "code",
   "execution_count": null,
   "metadata": {},
   "outputs": [],
   "source": [
    "print(otro_string.replace(\"a\", \"pizzas\"))"
   ]
  },
  {
   "cell_type": "code",
   "execution_count": null,
   "metadata": {},
   "outputs": [],
   "source": [
    "print(otro_string.title())\n",
    "print(otro_string.lower())\n",
    "print(otro_string.upper())"
   ]
  },
  {
   "cell_type": "markdown",
   "metadata": {},
   "source": [
    "### Ejercicios de 3\n",
    "1. Generador de usernames. Utilizando random, generar un username con 2 números, 1 caracter especial y 6 letras, en ese órden.\n",
    "2. Pegar strings. Recibes dos strings y un números. Recortar el string para que el string que se imprime se vea de la siguiente manera: primer string desde el inicio hasta el número ingresado (inclusivos) unido con el segundo string unido con primer string recortado del número ingresado más uno hasta el final.\n",
    "3. Recortes aleatorios. Recibes un string. Generas 4 números aleatorios: a, b, c y d. Imprimir la concatenación del recorte del string de a a b (inclusivos) y el recorte del string de c a d (inclusivos)."
   ]
  },
  {
   "cell_type": "code",
   "execution_count": null,
   "metadata": {},
   "outputs": [],
   "source": []
  }
 ],
 "metadata": {
  "kernelspec": {
   "display_name": "Python 3",
   "language": "python",
   "name": "python3"
  },
  "language_info": {
   "codemirror_mode": {
    "name": "ipython",
    "version": 3
   },
   "file_extension": ".py",
   "mimetype": "text/x-python",
   "name": "python",
   "nbconvert_exporter": "python",
   "pygments_lexer": "ipython3",
   "version": "3.8.5"
  }
 },
 "nbformat": 4,
 "nbformat_minor": 4
}
