{
 "cells": [
  {
   "cell_type": "markdown",
   "metadata": {},
   "source": [
    "## Python básico\n",
    "Lourdes Beatriz Cajica Maceda\n",
    "\n",
    "### Temario\n",
    "1. **Variables y tipos de datos**\n",
    "2. **Entradas y salidas de datos**\n",
    "3. **Strings y operaciones**\n",
    "4. **Boleanos y operaciones**\n",
    "5. **Condicionales**\n",
    "6. Listas y operaciones\n",
    "7. Ciclos\n",
    "8. Tuplas y operaciones\n",
    "9. Diccionarios y operaciones\n",
    "10. Conjuntos y operaciones\n",
    "11. Funciones\n",
    "12. Manejo de errores\n",
    "13. Manejo de archivos\n",
    "14. Programación Orientada a Objetos"
   ]
  },
  {
   "cell_type": "markdown",
   "metadata": {},
   "source": [
    "### 4. Booleanos y operadores"
   ]
  },
  {
   "cell_type": "code",
   "execution_count": null,
   "metadata": {},
   "outputs": [],
   "source": [
    "print(type(True))\n",
    "print(type(False))"
   ]
  },
  {
   "cell_type": "code",
   "execution_count": null,
   "metadata": {},
   "outputs": [],
   "source": [
    "# < >\n",
    "# >= <=\n",
    "# == !=\n",
    "# not -> negacion\n",
    "\n",
    "print(5 < 14)\n",
    "print(3 >= 3.3333)\n",
    "print(\"hola \" == \"hola\")\n",
    "print(3.1444 != 2)\n",
    "print(not True)\n",
    "print(not False)"
   ]
  },
  {
   "cell_type": "code",
   "execution_count": null,
   "metadata": {},
   "outputs": [],
   "source": [
    "print(\"hola\" == \"hola\" and 3 > 2)  # and == True si las dos expresiones son True\n",
    "print(not (\"hola\" != \"hola\") or 3 < 2)   # or == False si las dos expresiones son False"
   ]
  },
  {
   "cell_type": "markdown",
   "metadata": {},
   "source": [
    "### 5. Condicionales"
   ]
  },
  {
   "cell_type": "code",
   "execution_count": null,
   "metadata": {},
   "outputs": [],
   "source": [
    "if 5 == 5.0:\n",
    "    print(\"Hola\")\n",
    "\n",
    "if 10 == 10:\n",
    "    print(\"Adios\")"
   ]
  },
  {
   "cell_type": "code",
   "execution_count": null,
   "metadata": {},
   "outputs": [],
   "source": [
    "if 3.333 <= 14:\n",
    "    print(\"Prueba 1\")\n",
    "else:\n",
    "    print(\"Lo que sea\")"
   ]
  },
  {
   "cell_type": "code",
   "execution_count": null,
   "metadata": {},
   "outputs": [],
   "source": [
    "if 3 == \"3\":\n",
    "    print(\"Prueba 1\")\n",
    "elif 2 <= -12:\n",
    "    print(\"Prueba 2\")\n",
    "elif 15 > 30:\n",
    "    print(\"Prueba 3\")\n",
    "else:\n",
    "    print(\"Lo que sea\")"
   ]
  },
  {
   "cell_type": "code",
   "execution_count": null,
   "metadata": {},
   "outputs": [],
   "source": [
    "if \"a\" in \"hola\":\n",
    "    print(\"a está en hola\")\n",
    "else:\n",
    "    print(\"a no está en hola\")"
   ]
  },
  {
   "cell_type": "code",
   "execution_count": null,
   "metadata": {},
   "outputs": [],
   "source": [
    "if \"a\" not in \"hola\":\n",
    "    print(\"a no está en hola\")\n",
    "else:\n",
    "    print(\"a está en hola\")"
   ]
  },
  {
   "cell_type": "markdown",
   "metadata": {},
   "source": [
    "### Ejercicios 4-5\n",
    "1. Se recibe una pregunta. Si termina en vocal, regresar sí; si no, imprimir no.\n",
    "2. Verificar contraseña. Se recibe un string al usuario. El string debe contener al menos un caracter especia (@, !, #, %), al menos un número (0-9) y tener más de 6 caracteres. Se debe regresar si es válido o no es válido el string.\n",
    "3. Quiz de matemáticas. El usuario ingresa su nombre, el valor máximo y el valor mínimo. Se deben generar 4 operaciones aleatorias (suma, resta, multiplicación y división), con valores dentro del rango proporcionado y contar las respuestas correctas. Al final se regresa el puntaje con un mensaje personalizado con su nombre."
   ]
  }
 ],
 "metadata": {
  "kernelspec": {
   "display_name": "Python 3",
   "language": "python",
   "name": "python3"
  },
  "language_info": {
   "codemirror_mode": {
    "name": "ipython",
    "version": 3
   },
   "file_extension": ".py",
   "mimetype": "text/x-python",
   "name": "python",
   "nbconvert_exporter": "python",
   "pygments_lexer": "ipython3",
   "version": "3.8.5"
  }
 },
 "nbformat": 4,
 "nbformat_minor": 4
}
