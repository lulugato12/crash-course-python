{
 "cells": [
  {
   "cell_type": "markdown",
   "metadata": {},
   "source": [
    "## Python básico\n",
    "Lourdes Beatriz Cajica Maceda\n",
    "\n",
    "### Temario\n",
    "1. **Variables y tipos de datos**\n",
    "2. **Entradas y salidas de datos**\n",
    "3. **Strings y operaciones**\n",
    "4. **Booleanos y operaciones**\n",
    "5. **Condicionales**\n",
    "6. **Listas y operaciones**\n",
    "7. **Ciclos**\n",
    "8. **Tuplas y operaciones**\n",
    "9. **Diccionarios y operaciones**\n",
    "10. **Conjuntos y operaciones**\n",
    "11. **Funciones**\n",
    "12. Manejo de errores\n",
    "13. Manejo de archivos\n",
    "14. Programación Orientada a Objetos"
   ]
  },
  {
   "cell_type": "markdown",
   "metadata": {},
   "source": [
    "### Funciones"
   ]
  },
  {
   "cell_type": "code",
   "execution_count": null,
   "metadata": {},
   "outputs": [],
   "source": [
    "# Estructura basica\n",
    "def mi_funct():\n",
    "    pass         # En Python no podemos dejar estructuras vacias\n",
    "                 # Para eso usamos pass. Pass no hace nada solo\n",
    "                 # sirve como comodin."
   ]
  },
  {
   "cell_type": "code",
   "execution_count": null,
   "metadata": {},
   "outputs": [],
   "source": [
    "# Funcion que imprime un mensaje\n",
    "\n",
    "def hola():\n",
    "    print(\"Hola usuario\")\n",
    "\n",
    "hola()       # Llamada a una funcion"
   ]
  },
  {
   "cell_type": "code",
   "execution_count": null,
   "metadata": {},
   "outputs": [],
   "source": [
    "# Parametros de una funcion\n",
    "\n",
    "def hola(usuario):\n",
    "    print(\"Hola \" + usuario)\n",
    "\n",
    "hola(\"Antonio\")    # Parametro de la funcion"
   ]
  },
  {
   "cell_type": "code",
   "execution_count": null,
   "metadata": {},
   "outputs": [],
   "source": [
    "# Parametros opcionales\n",
    "\n",
    "def hola(usuario, veces = 2):\n",
    "    print(\"Hola \" * veces + usuario)\n",
    "\n",
    "hola(\"Lourdes\")\n",
    "hola(\"Lourdes\", 3)"
   ]
  },
  {
   "cell_type": "code",
   "execution_count": null,
   "metadata": {},
   "outputs": [],
   "source": [
    "# Funciones que regresan valores\n",
    "\n",
    "def mensaje_hola(usuario, veces = 2):\n",
    "    return \"Hola \" * veces + usuario\n",
    "\n",
    "print(mensaje_hola(\"Lourdes\", 5))      # El valor que me regresa\n",
    "                                       # lo puedo manipular como\n",
    "                                       # un valor normal"
   ]
  },
  {
   "cell_type": "code",
   "execution_count": null,
   "metadata": {},
   "outputs": [],
   "source": [
    "# Mas de un valor de regreso (tuplas)\n",
    "\n",
    "def mensaje_hola(usuario, veces = 2):\n",
    "    return (\"Hola \" + usuario + \" \", veces)\n",
    "\n",
    "respuesta = mensaje_hola(\"Benito\", 3)\n",
    "\n",
    "print(respuesta)\n",
    "print(respuesta[0] * respuesta[1])"
   ]
  },
  {
   "cell_type": "code",
   "execution_count": null,
   "metadata": {},
   "outputs": [],
   "source": [
    "# Funciones dentro de funciones\n",
    "\n",
    "def suma(x, y):\n",
    "    return x + y\n",
    "\n",
    "def mult(m, n):\n",
    "    total = 0\n",
    "    for i in range(m):\n",
    "        total = suma(total, n)\n",
    "    return total\n",
    "\n",
    "print(mult(4, 5))"
   ]
  },
  {
   "cell_type": "markdown",
   "metadata": {},
   "source": [
    "### Ejercicios de 11\n",
    "1. Funcion comparar. Crea una funcion que recibe dos numeros. Regresa 1 si el primer numero es mayor, regresa -1 si el segundo es mayor y regresa 0 cuando son iguales. El usuario ingresa los dos valores y el programa imprime el valor correcto.\n",
    "2. Calculadora de areas. Crea tres funciones: area_cuadrado, area_circulo, area_triangulo. Cada una de las funciones debe recibir los parametros adecuados y regresar un numero flotante (area). Se imprime un menu al usuario en donde elige que area quiere calcular. Dependiendo de su seleccion, se piden los parametros y se llama a la funcion correspondiente.\n",
    "3. Verificador de palindromos. Crea una funcion que recibe un string. Se regresa un booleano dependiendo de si es palindromo o no lo es. El usuario ingresa el string y se debe imprimir \"si es palindromo\" o \"no es palindromo\" dependiendo del resultado de la funcion.\n",
    "4. Pares - impares. Crea una funcion que recibe una lista de numeros. Se debe regresar dos lista: una con los numeros pares y otra con los impares. El usuario debe ingresar n numeros, el programa los debe almacenar en una lista. Se imprime los valores de cada lista con el siguiente formato: \"Lista de impares/pares: valor1 valor2 ... valorn\". Si la lista esta vacia, solo imprimir \"La lista de pares/impares esta vacia\"."
   ]
  },
  {
   "cell_type": "markdown",
   "metadata": {},
   "source": [
    "### Bonus: Recursividad\n",
    "\n",
    "Todas las funciones que hemos estudiado se conocen como implementaciones iterativas. Esto es que a través de ciclos se puede llevar a una respuesta.\n",
    "\n",
    "Pero podemos tenemos una segunda opcion (a veces no tan eficiente), esta es la recursividad. La recursividad es reescribir una funcion en terminos de ella misma. Veamos el ejemplo de la sucesion de Fibonacci.\n",
    "\n",
    "La sucecion funciona de la siguiente manera: se inicia con dos 1. Los siguiente numeros son la suma de los dos numeros anteriores. Los primeros 10 numeros de esta sucesion son:\n",
    "\n",
    "**1, 1, 2, 3, 5, 8, 13, 21, 34, 55 ...**\n",
    "\n",
    "Ahora ¿como la reescribimos? Tomaremos f(n) como el numero de Fibonacci en la posicion n. Sabemos que:\n",
    "\n",
    "f(0) = 1\n",
    "\n",
    "f(1) = 1\n",
    "\n",
    "Seguimos:\n",
    "\n",
    "f(2) = 1 + 1 = 2\n",
    "\n",
    "f(3) = 1 + 2 = 3\n",
    "\n",
    "f(4) = 2 + 3 = 5\n",
    "\n",
    "Ahora... Reescribamos la funcion.\n",
    "\n",
    "f(2) = f(0) + f(1)\n",
    "\n",
    "Siguiendo la definicion, aqui estamos sumando el valor de la posicion 2 con la suma de la posicion 1 y 0, que son los dos valores anteriores. Sigamos.\n",
    "\n",
    "f(3) = f(1) + f(2)\n",
    "\n",
    "f(4) = f(2) + f(3)\n",
    "\n",
    "¿Empiezas a ver el patron? Podemos simplificar todo en la siguiente expresión:\n",
    "\n",
    "**f(n) = f(n-1) + f(n-2)**\n",
    "\n",
    "Con esto ya quedó. Estamos definiendo f(n) en terminos de ella misma. Esto no se ve con mucho sentido, pero ahora verás.\n",
    "\n",
    "Vamos a la parte de funciones. **Para definir una funcion recursiva necesitamos dos cosas: el caso base y el paso recursivo.**\n",
    "\n",
    "Para el caso base tomamos f(0) y f(1), ambos, por definicion, siempre son 1.\n",
    "Para nuestro paso recursivo, tomamos f(n) = f(n-1) + f(n-2).\n",
    "\n",
    "Ahora vamos a programar."
   ]
  },
  {
   "cell_type": "code",
   "execution_count": null,
   "metadata": {},
   "outputs": [],
   "source": [
    "# Esta es nuestra funcion, que recibe un parametro n: la posicion\n",
    "\n",
    "def fibonacci(n):\n",
    "    pass"
   ]
  },
  {
   "cell_type": "code",
   "execution_count": null,
   "metadata": {},
   "outputs": [],
   "source": [
    "# Aqui esta nuestro caso base\n",
    "\n",
    "def fibonacci(n):\n",
    "    if n == 0 or n == 1:\n",
    "        return 1"
   ]
  },
  {
   "cell_type": "code",
   "execution_count": null,
   "metadata": {},
   "outputs": [],
   "source": [
    "# Y, por ultimo, nuestro paso recursivo\n",
    "\n",
    "def fibonacci(n):\n",
    "    if n == 0 or n == 1:\n",
    "        return 1\n",
    "    else:\n",
    "        return fibonacci(n-1) + fibonacci(n-2)"
   ]
  },
  {
   "cell_type": "code",
   "execution_count": null,
   "metadata": {},
   "outputs": [],
   "source": [
    "# Probemos\n",
    "\n",
    "print(fibonacci(2))\n",
    "print(fibonacci(3))\n",
    "print(fibonacci(5))\n",
    "print(fibonacci(9))"
   ]
  },
  {
   "cell_type": "markdown",
   "metadata": {},
   "source": [
    "### Ejercicios de recursividad\n",
    "1. Multiplicacion. Estamos muy familiarizados con la multiplicacion que pasamos por alto que solo se trata de la suma de un numero x numero de veces. Realiza una implementacion recursiva de esta operacion.\n",
    "2. Potencia. La potencia se calcula multiplicando un numero por el mismo x numero de veces. Realiza una implementacion recursiva de esta operacion.\n",
    "3. Factorial. Factorial es una operacion matematica en donde multiplicas n * n-1 * ... 1. Realiza una implementacion recursiva de esta operacion."
   ]
  },
  {
   "cell_type": "code",
   "execution_count": null,
   "metadata": {},
   "outputs": [],
   "source": []
  }
 ],
 "metadata": {
  "kernelspec": {
   "display_name": "Python 3",
   "language": "python",
   "name": "python3"
  },
  "language_info": {
   "codemirror_mode": {
    "name": "ipython",
    "version": 3
   },
   "file_extension": ".py",
   "mimetype": "text/x-python",
   "name": "python",
   "nbconvert_exporter": "python",
   "pygments_lexer": "ipython3",
   "version": "3.8.5"
  }
 },
 "nbformat": 4,
 "nbformat_minor": 4
}
